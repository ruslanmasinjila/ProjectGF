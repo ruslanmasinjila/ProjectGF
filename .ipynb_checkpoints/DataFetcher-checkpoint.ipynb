{
 "cells": [
  {
   "cell_type": "code",
   "execution_count": 17,
   "id": "82162c47",
   "metadata": {},
   "outputs": [],
   "source": [
    "##########################################################################################\n",
    "# DataFetcher\n",
    "# AUTHOR: RUSLAN MASINJILA\n",
    "##########################################################################################\n",
    "import MetaTrader5 as mt5\n",
    "import pandas as pd\n",
    "import pandas_ta as ta\n",
    "import numpy as np\n",
    "import time\n",
    "import os\n",
    "\n",
    "# NUMBER OF COLUMNS TO BE DISPLAYED\n",
    "pd.set_option('display.max_columns', 500)\n",
    "\n",
    "# MAXIMUM TABLE WIDTH TO DISPLAY\n",
    "pd.set_option('display.width', 1500)      \n",
    " \n",
    "# ESTABLISH CONNECTION TO MT5 TERMINAL\n",
    "if not mt5.initialize():\n",
    "    print(\"initialize() FAILED, ERROR CODE =\",mt5.last_error())\n",
    "    quit()"
   ]
  },
  {
   "cell_type": "code",
   "execution_count": 18,
   "id": "58fe9dbe",
   "metadata": {},
   "outputs": [],
   "source": [
    "# MT5 TIMEFRAME\n",
    "MN1  = mt5.TIMEFRAME_MN1\n",
    "W1  = mt5.TIMEFRAME_W1\n",
    "D1  = mt5.TIMEFRAME_D1\n",
    "H12 = mt5.TIMEFRAME_H12\n",
    "H8  = mt5.TIMEFRAME_H8\n",
    "H6  = mt5.TIMEFRAME_H6\n",
    "H4  = mt5.TIMEFRAME_H4\n",
    "H3  = mt5.TIMEFRAME_H3\n",
    "H2  = mt5.TIMEFRAME_H2\n",
    "H1  = mt5.TIMEFRAME_H1\n",
    "M30 = mt5.TIMEFRAME_M30\n",
    "M20 = mt5.TIMEFRAME_M20\n",
    "M15 = mt5.TIMEFRAME_M15\n",
    "M12 = mt5.TIMEFRAME_M12\n",
    "M10 = mt5.TIMEFRAME_M10\n",
    "M6  = mt5.TIMEFRAME_M6\n",
    "M5  = mt5.TIMEFRAME_M5\n",
    "M4  = mt5.TIMEFRAME_M4\n",
    "M3  = mt5.TIMEFRAME_M3\n",
    "M2  = mt5.TIMEFRAME_M2\n",
    "M1  = mt5.TIMEFRAME_M1\n",
    "\n",
    "currency_pairs = None\n",
    "with open('instruments.txt') as f:\n",
    "    currency_pairs = [line.rstrip('\\n') for line in f]\n",
    "\n",
    "\n",
    "# TIMEFRAMES\n",
    "# mt5Timeframe   = [M1,M2,M3,M4,M5,M6,M10,M12,M15,M20,M30,H1,H2,H3,H4,H6,H8,H12,D1]\n",
    "# strTimeframe   = [\"M1\",\"M2\",\"M3\",\"M4\",\"M5\",\"M6\",\"M10\",\"M12\",\"M15\",\"M20\",\"M30\",\"H1\",\"H2\",\"H3\",\"H4\",\"H6\",\"H8\",\"H12\",\"D1\"]\n",
    "\n",
    "mt5Timeframe   =   M5\n",
    "strTimeframe   =  \"M5\"\n",
    "\n",
    "numCandles     = 10000\n",
    "offset         = 1\n",
    "##########################################################################################"
   ]
  },
  {
   "cell_type": "code",
   "execution_count": 19,
   "id": "f317d0a7",
   "metadata": {},
   "outputs": [],
   "source": [
    "# Gets the most recent <numCandles> prices for a specified <currency_pair> and <mt5Timeframe>\n",
    "# Excludes the bar that has not finished forming <i.e offset = 1>\n",
    "# Saves the rates in .csv files\n",
    "def getRates(currency_pair, mt5Timeframe, numCandles):\n",
    "    rates_frame =  mt5.copy_rates_from_pos(currency_pair, mt5Timeframe, offset, numCandles)\n",
    "    rates_frame = pd.DataFrame(rates_frame)\n",
    "    rates_frame['time']=pd.to_datetime(rates_frame['time'], unit='s')\n",
    "    rates_frame[\"rsi\"] = ta.rsi(rates_frame[\"close\"],length=100)\n",
    "    rates_frame[\"rsi\"] = rates_frame[\"rsi\"].diff()\n",
    "    rates_frame=rates_frame.dropna().reset_index(drop=True)\n",
    "    rates_frame.drop([\"open\",\"high\",\"low\",\"close\",\"tick_volume\",\"spread\",\"real_volume\"],axis = 1, inplace=True)\n",
    "    rates_frame.rename(columns={\"time\": \"ds\", \"rsi\": \"y\"},inplace=True)\n",
    "    rates_frame.to_csv(\"rates/\"+cp+\".csv\")\n",
    "\n",
    "##########################################################################################"
   ]
  },
  {
   "cell_type": "code",
   "execution_count": 20,
   "id": "5d26bb2b",
   "metadata": {},
   "outputs": [],
   "source": [
    "for cp in currency_pairs:\n",
    "    getRates(cp, mt5Timeframe, numCandles)"
   ]
  }
 ],
 "metadata": {
  "kernelspec": {
   "display_name": "Python 3 (ipykernel)",
   "language": "python",
   "name": "python3"
  },
  "language_info": {
   "codemirror_mode": {
    "name": "ipython",
    "version": 3
   },
   "file_extension": ".py",
   "mimetype": "text/x-python",
   "name": "python",
   "nbconvert_exporter": "python",
   "pygments_lexer": "ipython3",
   "version": "3.9.12"
  }
 },
 "nbformat": 4,
 "nbformat_minor": 5
}
