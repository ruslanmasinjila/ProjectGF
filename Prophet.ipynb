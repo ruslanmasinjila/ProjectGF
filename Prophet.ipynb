{
 "cells": [
  {
   "cell_type": "code",
   "execution_count": null,
   "metadata": {
    "executionInfo": {
     "elapsed": 348,
     "status": "ok",
     "timestamp": 1655457282093,
     "user": {
      "displayName": "Ruslan Masinjila",
      "userId": "12115899396860600453"
     },
     "user_tz": -180
    },
    "id": "pYpFC3yDfERl"
   },
   "outputs": [],
   "source": [
    "import pandas as pd\n",
    "from fbprophet import Prophet"
   ]
  },
  {
   "cell_type": "code",
   "execution_count": null,
   "metadata": {
    "executionInfo": {
     "elapsed": 6,
     "status": "ok",
     "timestamp": 1655457282575,
     "user": {
      "displayName": "Ruslan Masinjila",
      "userId": "12115899396860600453"
     },
     "user_tz": -180
    },
    "id": "dTWM3CRA6SMs"
   },
   "outputs": [],
   "source": [
    "with open('instruments.txt') as f:\n",
    "    currency_pairs = [line.rstrip('\\n') for line in f]"
   ]
  },
  {
   "cell_type": "code",
   "execution_count": null,
   "metadata": {
    "colab": {
     "base_uri": "https://localhost:8080/",
     "height": 634
    },
    "executionInfo": {
     "elapsed": 90364,
     "status": "ok",
     "timestamp": 1655457372933,
     "user": {
      "displayName": "Ruslan Masinjila",
      "userId": "12115899396860600453"
     },
     "user_tz": -180
    },
    "id": "1P0Q-O576jvX",
    "outputId": "8eda7789-a24b-49d3-c414-a38b3b80e29c",
    "scrolled": false
   },
   "outputs": [],
   "source": [
    "for i in currency_pairs:\n",
    "  print(i)\n",
    "  df = pd.read_csv(i,index_col=0)\n",
    "  m = Prophet(interval_width=0.95)\n",
    "  m.fit(df)\n",
    "  future = m.make_future_dataframe(periods=1,freq=\"5 min\")\n",
    "  forecast = m.predict(future)\n",
    "  toPlot = pd.DataFrame()\n",
    "  toPlot[\"yhat\"] = forecast[\"yhat\"]\n",
    "  toPlot[\"yhat_upper\"] = forecast[\"yhat_upper\"]\n",
    "  toPlot[\"yhat_lower\"] = forecast[\"yhat_lower\"]\n",
    "  toPlot[\"y\"] = df[\"y\"]\n",
    "  toPlot.tail(1000).plot(title = i)"
   ]
  }
 ],
 "metadata": {
  "colab": {
   "authorship_tag": "ABX9TyMxCbXk8ffXD9yYTHLv+m/x",
   "name": "Prophet.ipynb",
   "provenance": []
  },
  "kernelspec": {
   "display_name": "Python 3 (ipykernel)",
   "language": "python",
   "name": "python3"
  },
  "language_info": {
   "codemirror_mode": {
    "name": "ipython",
    "version": 3
   },
   "file_extension": ".py",
   "mimetype": "text/x-python",
   "name": "python",
   "nbconvert_exporter": "python",
   "pygments_lexer": "ipython3",
   "version": "3.9.12"
  }
 },
 "nbformat": 4,
 "nbformat_minor": 1
}
